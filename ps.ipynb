{
 "cells": [
  {
   "cell_type": "code",
   "execution_count": 1,
   "metadata": {},
   "outputs": [],
   "source": [
    "!pip install transformers sentence-transformers accelerate faiss-gpu pymupdf --quiet\n"
   ]
  },
  {
   "cell_type": "code",
   "execution_count": 1,
   "metadata": {},
   "outputs": [],
   "source": [
    "import fitz  # PyMuPDF\n",
    "import re\n",
    "import json\n",
    "import os\n",
    "from typing import List, Dict\n",
    "from transformers import AutoTokenizer, AutoModelForCausalLM, pipeline\n",
    "from sentence_transformers import SentenceTransformer\n",
    "import torch\n",
    "import faiss\n",
    "import numpy as np\n"
   ]
  },
  {
   "cell_type": "code",
   "execution_count": 2,
   "metadata": {},
   "outputs": [
    {
     "name": "stdout",
     "output_type": "stream",
     "text": [
      "Requirement already satisfied: accelerate in /system/conda/miniconda3/envs/cloudspace/lib/python3.10/site-packages (1.6.0)\n",
      "Requirement already satisfied: numpy<3.0.0,>=1.17 in /system/conda/miniconda3/envs/cloudspace/lib/python3.10/site-packages (from accelerate) (1.26.4)\n",
      "Requirement already satisfied: packaging>=20.0 in /system/conda/miniconda3/envs/cloudspace/lib/python3.10/site-packages (from accelerate) (24.2)\n",
      "Requirement already satisfied: psutil in /system/conda/miniconda3/envs/cloudspace/lib/python3.10/site-packages (from accelerate) (7.0.0)\n",
      "Requirement already satisfied: pyyaml in /system/conda/miniconda3/envs/cloudspace/lib/python3.10/site-packages (from accelerate) (6.0.2)\n",
      "Requirement already satisfied: torch>=2.0.0 in /system/conda/miniconda3/envs/cloudspace/lib/python3.10/site-packages (from accelerate) (2.7.0+cu128)\n",
      "Requirement already satisfied: huggingface-hub>=0.21.0 in /system/conda/miniconda3/envs/cloudspace/lib/python3.10/site-packages (from accelerate) (0.30.2)\n",
      "Requirement already satisfied: safetensors>=0.4.3 in /system/conda/miniconda3/envs/cloudspace/lib/python3.10/site-packages (from accelerate) (0.5.3)\n",
      "Requirement already satisfied: filelock in /system/conda/miniconda3/envs/cloudspace/lib/python3.10/site-packages (from huggingface-hub>=0.21.0->accelerate) (3.18.0)\n",
      "Requirement already satisfied: fsspec>=2023.5.0 in /system/conda/miniconda3/envs/cloudspace/lib/python3.10/site-packages (from huggingface-hub>=0.21.0->accelerate) (2025.3.2)\n",
      "Requirement already satisfied: requests in /system/conda/miniconda3/envs/cloudspace/lib/python3.10/site-packages (from huggingface-hub>=0.21.0->accelerate) (2.32.3)\n",
      "Requirement already satisfied: tqdm>=4.42.1 in /system/conda/miniconda3/envs/cloudspace/lib/python3.10/site-packages (from huggingface-hub>=0.21.0->accelerate) (4.67.1)\n",
      "Requirement already satisfied: typing-extensions>=3.7.4.3 in /system/conda/miniconda3/envs/cloudspace/lib/python3.10/site-packages (from huggingface-hub>=0.21.0->accelerate) (4.13.2)\n",
      "Requirement already satisfied: sympy>=1.13.3 in /system/conda/miniconda3/envs/cloudspace/lib/python3.10/site-packages (from torch>=2.0.0->accelerate) (1.13.3)\n",
      "Requirement already satisfied: networkx in /system/conda/miniconda3/envs/cloudspace/lib/python3.10/site-packages (from torch>=2.0.0->accelerate) (3.4.2)\n",
      "Requirement already satisfied: jinja2 in /system/conda/miniconda3/envs/cloudspace/lib/python3.10/site-packages (from torch>=2.0.0->accelerate) (3.1.6)\n",
      "Requirement already satisfied: nvidia-cuda-nvrtc-cu12==12.8.61 in /system/conda/miniconda3/envs/cloudspace/lib/python3.10/site-packages (from torch>=2.0.0->accelerate) (12.8.61)\n",
      "Requirement already satisfied: nvidia-cuda-runtime-cu12==12.8.57 in /system/conda/miniconda3/envs/cloudspace/lib/python3.10/site-packages (from torch>=2.0.0->accelerate) (12.8.57)\n",
      "Requirement already satisfied: nvidia-cuda-cupti-cu12==12.8.57 in /system/conda/miniconda3/envs/cloudspace/lib/python3.10/site-packages (from torch>=2.0.0->accelerate) (12.8.57)\n",
      "Requirement already satisfied: nvidia-cudnn-cu12==9.7.1.26 in /system/conda/miniconda3/envs/cloudspace/lib/python3.10/site-packages (from torch>=2.0.0->accelerate) (9.7.1.26)\n",
      "Requirement already satisfied: nvidia-cublas-cu12==12.8.3.14 in /system/conda/miniconda3/envs/cloudspace/lib/python3.10/site-packages (from torch>=2.0.0->accelerate) (12.8.3.14)\n",
      "Requirement already satisfied: nvidia-cufft-cu12==11.3.3.41 in /system/conda/miniconda3/envs/cloudspace/lib/python3.10/site-packages (from torch>=2.0.0->accelerate) (11.3.3.41)\n",
      "Requirement already satisfied: nvidia-curand-cu12==10.3.9.55 in /system/conda/miniconda3/envs/cloudspace/lib/python3.10/site-packages (from torch>=2.0.0->accelerate) (10.3.9.55)\n",
      "Requirement already satisfied: nvidia-cusolver-cu12==11.7.2.55 in /system/conda/miniconda3/envs/cloudspace/lib/python3.10/site-packages (from torch>=2.0.0->accelerate) (11.7.2.55)\n",
      "Requirement already satisfied: nvidia-cusparse-cu12==12.5.7.53 in /system/conda/miniconda3/envs/cloudspace/lib/python3.10/site-packages (from torch>=2.0.0->accelerate) (12.5.7.53)\n",
      "Requirement already satisfied: nvidia-cusparselt-cu12==0.6.3 in /system/conda/miniconda3/envs/cloudspace/lib/python3.10/site-packages (from torch>=2.0.0->accelerate) (0.6.3)\n",
      "Requirement already satisfied: nvidia-nccl-cu12==2.26.2 in /system/conda/miniconda3/envs/cloudspace/lib/python3.10/site-packages (from torch>=2.0.0->accelerate) (2.26.2)\n",
      "Requirement already satisfied: nvidia-nvtx-cu12==12.8.55 in /system/conda/miniconda3/envs/cloudspace/lib/python3.10/site-packages (from torch>=2.0.0->accelerate) (12.8.55)\n",
      "Requirement already satisfied: nvidia-nvjitlink-cu12==12.8.61 in /system/conda/miniconda3/envs/cloudspace/lib/python3.10/site-packages (from torch>=2.0.0->accelerate) (12.8.61)\n",
      "Requirement already satisfied: nvidia-cufile-cu12==1.13.0.11 in /system/conda/miniconda3/envs/cloudspace/lib/python3.10/site-packages (from torch>=2.0.0->accelerate) (1.13.0.11)\n",
      "Requirement already satisfied: triton==3.3.0 in /system/conda/miniconda3/envs/cloudspace/lib/python3.10/site-packages (from torch>=2.0.0->accelerate) (3.3.0)\n",
      "Requirement already satisfied: setuptools>=40.8.0 in /system/conda/miniconda3/envs/cloudspace/lib/python3.10/site-packages (from triton==3.3.0->torch>=2.0.0->accelerate) (75.8.0)\n",
      "Requirement already satisfied: mpmath<1.4,>=1.1.0 in /system/conda/miniconda3/envs/cloudspace/lib/python3.10/site-packages (from sympy>=1.13.3->torch>=2.0.0->accelerate) (1.3.0)\n",
      "Requirement already satisfied: MarkupSafe>=2.0 in /system/conda/miniconda3/envs/cloudspace/lib/python3.10/site-packages (from jinja2->torch>=2.0.0->accelerate) (3.0.2)\n",
      "Requirement already satisfied: charset-normalizer<4,>=2 in /system/conda/miniconda3/envs/cloudspace/lib/python3.10/site-packages (from requests->huggingface-hub>=0.21.0->accelerate) (3.4.1)\n",
      "Requirement already satisfied: idna<4,>=2.5 in /system/conda/miniconda3/envs/cloudspace/lib/python3.10/site-packages (from requests->huggingface-hub>=0.21.0->accelerate) (3.10)\n",
      "Requirement already satisfied: urllib3<3,>=1.21.1 in /system/conda/miniconda3/envs/cloudspace/lib/python3.10/site-packages (from requests->huggingface-hub>=0.21.0->accelerate) (2.4.0)\n",
      "Requirement already satisfied: certifi>=2017.4.17 in /system/conda/miniconda3/envs/cloudspace/lib/python3.10/site-packages (from requests->huggingface-hub>=0.21.0->accelerate) (2025.1.31)\n"
     ]
    }
   ],
   "source": [
    "!pip install accelerate"
   ]
  },
  {
   "cell_type": "code",
   "execution_count": 2,
   "metadata": {},
   "outputs": [
    {
     "data": {
      "application/vnd.jupyter.widget-view+json": {
       "model_id": "00a0523cba054f4abd91baa00558c40c",
       "version_major": 2,
       "version_minor": 0
      },
      "text/plain": [
       "config.json:   0%|          | 0.00/638 [00:00<?, ?B/s]"
      ]
     },
     "metadata": {},
     "output_type": "display_data"
    },
    {
     "data": {
      "application/vnd.jupyter.widget-view+json": {
       "model_id": "62004a960b1e4d3a913411fefb221102",
       "version_major": 2,
       "version_minor": 0
      },
      "text/plain": [
       "model.safetensors.index.json:   0%|          | 0.00/23.9k [00:00<?, ?B/s]"
      ]
     },
     "metadata": {},
     "output_type": "display_data"
    },
    {
     "data": {
      "application/vnd.jupyter.widget-view+json": {
       "model_id": "ea76b44cfb0b4bd7a014013cf6fe7ea2",
       "version_major": 2,
       "version_minor": 0
      },
      "text/plain": [
       "Fetching 8 files:   0%|          | 0/8 [00:00<?, ?it/s]"
      ]
     },
     "metadata": {},
     "output_type": "display_data"
    },
    {
     "name": "stderr",
     "output_type": "stream",
     "text": [
      "Xet Storage is enabled for this repo, but the 'hf_xet' package is not installed. Falling back to regular HTTP download. For better performance, install the package with: `pip install huggingface_hub[hf_xet]` or `pip install hf_xet`\n",
      "Xet Storage is enabled for this repo, but the 'hf_xet' package is not installed. Falling back to regular HTTP download. For better performance, install the package with: `pip install huggingface_hub[hf_xet]` or `pip install hf_xet`\n",
      "Xet Storage is enabled for this repo, but the 'hf_xet' package is not installed. Falling back to regular HTTP download. For better performance, install the package with: `pip install huggingface_hub[hf_xet]` or `pip install hf_xet`\n",
      "Xet Storage is enabled for this repo, but the 'hf_xet' package is not installed. Falling back to regular HTTP download. For better performance, install the package with: `pip install huggingface_hub[hf_xet]` or `pip install hf_xet`\n",
      "Xet Storage is enabled for this repo, but the 'hf_xet' package is not installed. Falling back to regular HTTP download. For better performance, install the package with: `pip install huggingface_hub[hf_xet]` or `pip install hf_xet`\n",
      "Xet Storage is enabled for this repo, but the 'hf_xet' package is not installed. Falling back to regular HTTP download. For better performance, install the package with: `pip install huggingface_hub[hf_xet]` or `pip install hf_xet`\n",
      "Xet Storage is enabled for this repo, but the 'hf_xet' package is not installed. Falling back to regular HTTP download. For better performance, install the package with: `pip install huggingface_hub[hf_xet]` or `pip install hf_xet`\n"
     ]
    },
    {
     "data": {
      "application/vnd.jupyter.widget-view+json": {
       "model_id": "77bbdabecab24f39b658ac0a84f4c7b4",
       "version_major": 2,
       "version_minor": 0
      },
      "text/plain": [
       "model-00005-of-00008.safetensors:   0%|          | 0.00/1.98G [00:00<?, ?B/s]"
      ]
     },
     "metadata": {},
     "output_type": "display_data"
    },
    {
     "data": {
      "application/vnd.jupyter.widget-view+json": {
       "model_id": "730f233403944405a772575a76094969",
       "version_major": 2,
       "version_minor": 0
      },
      "text/plain": [
       "model-00002-of-00008.safetensors:   0%|          | 0.00/1.95G [00:00<?, ?B/s]"
      ]
     },
     "metadata": {},
     "output_type": "display_data"
    },
    {
     "data": {
      "application/vnd.jupyter.widget-view+json": {
       "model_id": "ae261f130fc2469b8c00186a243e30d3",
       "version_major": 2,
       "version_minor": 0
      },
      "text/plain": [
       "model-00008-of-00008.safetensors:   0%|          | 0.00/816M [00:00<?, ?B/s]"
      ]
     },
     "metadata": {},
     "output_type": "display_data"
    },
    {
     "data": {
      "application/vnd.jupyter.widget-view+json": {
       "model_id": "c45ccbc9c712459f85311d6507ca1b9d",
       "version_major": 2,
       "version_minor": 0
      },
      "text/plain": [
       "model-00003-of-00008.safetensors:   0%|          | 0.00/1.98G [00:00<?, ?B/s]"
      ]
     },
     "metadata": {},
     "output_type": "display_data"
    },
    {
     "data": {
      "application/vnd.jupyter.widget-view+json": {
       "model_id": "05dbd4e4c3634a22a7f26f00e18d400d",
       "version_major": 2,
       "version_minor": 0
      },
      "text/plain": [
       "model-00006-of-00008.safetensors:   0%|          | 0.00/1.95G [00:00<?, ?B/s]"
      ]
     },
     "metadata": {},
     "output_type": "display_data"
    },
    {
     "data": {
      "application/vnd.jupyter.widget-view+json": {
       "model_id": "bd8a2d7dfb34462cb83d7d05ff15c596",
       "version_major": 2,
       "version_minor": 0
      },
      "text/plain": [
       "model-00001-of-00008.safetensors:   0%|          | 0.00/1.89G [00:00<?, ?B/s]"
      ]
     },
     "metadata": {},
     "output_type": "display_data"
    },
    {
     "data": {
      "application/vnd.jupyter.widget-view+json": {
       "model_id": "d4dee5137abd4796816147295ee4b0df",
       "version_major": 2,
       "version_minor": 0
      },
      "text/plain": [
       "model-00004-of-00008.safetensors:   0%|          | 0.00/1.95G [00:00<?, ?B/s]"
      ]
     },
     "metadata": {},
     "output_type": "display_data"
    },
    {
     "name": "stderr",
     "output_type": "stream",
     "text": [
      "Xet Storage is enabled for this repo, but the 'hf_xet' package is not installed. Falling back to regular HTTP download. For better performance, install the package with: `pip install huggingface_hub[hf_xet]` or `pip install hf_xet`\n"
     ]
    },
    {
     "data": {
      "application/vnd.jupyter.widget-view+json": {
       "model_id": "7296c8db39e54fbc9fb400fcd6620e94",
       "version_major": 2,
       "version_minor": 0
      },
      "text/plain": [
       "model-00007-of-00008.safetensors:   0%|          | 0.00/1.98G [00:00<?, ?B/s]"
      ]
     },
     "metadata": {},
     "output_type": "display_data"
    },
    {
     "data": {
      "application/vnd.jupyter.widget-view+json": {
       "model_id": "c3a5f075614445e5b64c50a3c948c86c",
       "version_major": 2,
       "version_minor": 0
      },
      "text/plain": [
       "Loading checkpoint shards:   0%|          | 0/8 [00:00<?, ?it/s]"
      ]
     },
     "metadata": {},
     "output_type": "display_data"
    },
    {
     "data": {
      "application/vnd.jupyter.widget-view+json": {
       "model_id": "5b1173212e65464196e480ff0d68fc7e",
       "version_major": 2,
       "version_minor": 0
      },
      "text/plain": [
       "generation_config.json:   0%|          | 0.00/111 [00:00<?, ?B/s]"
      ]
     },
     "metadata": {},
     "output_type": "display_data"
    },
    {
     "data": {
      "application/vnd.jupyter.widget-view+json": {
       "model_id": "4a7e8cc6d3f749b59d402f17f2300987",
       "version_major": 2,
       "version_minor": 0
      },
      "text/plain": [
       "tokenizer_config.json:   0%|          | 0.00/1.43k [00:00<?, ?B/s]"
      ]
     },
     "metadata": {},
     "output_type": "display_data"
    },
    {
     "name": "stderr",
     "output_type": "stream",
     "text": [
      "Xet Storage is enabled for this repo, but the 'hf_xet' package is not installed. Falling back to regular HTTP download. For better performance, install the package with: `pip install huggingface_hub[hf_xet]` or `pip install hf_xet`\n"
     ]
    },
    {
     "data": {
      "application/vnd.jupyter.widget-view+json": {
       "model_id": "6ade962a3b3a4960bc9e1ef7b1138af7",
       "version_major": 2,
       "version_minor": 0
      },
      "text/plain": [
       "tokenizer.model:   0%|          | 0.00/493k [00:00<?, ?B/s]"
      ]
     },
     "metadata": {},
     "output_type": "display_data"
    },
    {
     "data": {
      "application/vnd.jupyter.widget-view+json": {
       "model_id": "8791297f2f52497ea38d4b5532ffa9c4",
       "version_major": 2,
       "version_minor": 0
      },
      "text/plain": [
       "tokenizer.json:   0%|          | 0.00/1.80M [00:00<?, ?B/s]"
      ]
     },
     "metadata": {},
     "output_type": "display_data"
    },
    {
     "data": {
      "application/vnd.jupyter.widget-view+json": {
       "model_id": "e1fe407528a34c43ac581175c4a3bc0b",
       "version_major": 2,
       "version_minor": 0
      },
      "text/plain": [
       "added_tokens.json:   0%|          | 0.00/42.0 [00:00<?, ?B/s]"
      ]
     },
     "metadata": {},
     "output_type": "display_data"
    },
    {
     "data": {
      "application/vnd.jupyter.widget-view+json": {
       "model_id": "69774f66a82b4c4c91297670f9a08e42",
       "version_major": 2,
       "version_minor": 0
      },
      "text/plain": [
       "special_tokens_map.json:   0%|          | 0.00/168 [00:00<?, ?B/s]"
      ]
     },
     "metadata": {},
     "output_type": "display_data"
    },
    {
     "name": "stderr",
     "output_type": "stream",
     "text": [
      "Device set to use cuda:0\n"
     ]
    },
    {
     "data": {
      "application/vnd.jupyter.widget-view+json": {
       "model_id": "00c3cb69d6c84333af1b40cbfb22eef7",
       "version_major": 2,
       "version_minor": 0
      },
      "text/plain": [
       "modules.json:   0%|          | 0.00/349 [00:00<?, ?B/s]"
      ]
     },
     "metadata": {},
     "output_type": "display_data"
    },
    {
     "data": {
      "application/vnd.jupyter.widget-view+json": {
       "model_id": "840b83a0ff664ec78ad9274809f854a2",
       "version_major": 2,
       "version_minor": 0
      },
      "text/plain": [
       "config_sentence_transformers.json:   0%|          | 0.00/124 [00:00<?, ?B/s]"
      ]
     },
     "metadata": {},
     "output_type": "display_data"
    },
    {
     "data": {
      "application/vnd.jupyter.widget-view+json": {
       "model_id": "8ab1239e10114b319f0616adde2d8393",
       "version_major": 2,
       "version_minor": 0
      },
      "text/plain": [
       "README.md:   0%|          | 0.00/94.6k [00:00<?, ?B/s]"
      ]
     },
     "metadata": {},
     "output_type": "display_data"
    },
    {
     "data": {
      "application/vnd.jupyter.widget-view+json": {
       "model_id": "59f1f57d93964322a42f378421755821",
       "version_major": 2,
       "version_minor": 0
      },
      "text/plain": [
       "sentence_bert_config.json:   0%|          | 0.00/52.0 [00:00<?, ?B/s]"
      ]
     },
     "metadata": {},
     "output_type": "display_data"
    },
    {
     "data": {
      "application/vnd.jupyter.widget-view+json": {
       "model_id": "84af4c7ab4344577ae148b64129bd29f",
       "version_major": 2,
       "version_minor": 0
      },
      "text/plain": [
       "config.json:   0%|          | 0.00/777 [00:00<?, ?B/s]"
      ]
     },
     "metadata": {},
     "output_type": "display_data"
    },
    {
     "data": {
      "application/vnd.jupyter.widget-view+json": {
       "model_id": "2df3d5e8a1e543bdaf07e03928a8ad37",
       "version_major": 2,
       "version_minor": 0
      },
      "text/plain": [
       "model.safetensors:   0%|          | 0.00/438M [00:00<?, ?B/s]"
      ]
     },
     "metadata": {},
     "output_type": "display_data"
    },
    {
     "data": {
      "application/vnd.jupyter.widget-view+json": {
       "model_id": "0f41d82ed81c409a96b6915e959871e3",
       "version_major": 2,
       "version_minor": 0
      },
      "text/plain": [
       "tokenizer_config.json:   0%|          | 0.00/366 [00:00<?, ?B/s]"
      ]
     },
     "metadata": {},
     "output_type": "display_data"
    },
    {
     "data": {
      "application/vnd.jupyter.widget-view+json": {
       "model_id": "0f11b654fc0a481d996d5e16ef12e402",
       "version_major": 2,
       "version_minor": 0
      },
      "text/plain": [
       "vocab.txt:   0%|          | 0.00/232k [00:00<?, ?B/s]"
      ]
     },
     "metadata": {},
     "output_type": "display_data"
    },
    {
     "data": {
      "application/vnd.jupyter.widget-view+json": {
       "model_id": "c68cc10df71e455a9c8e36eb5383a13c",
       "version_major": 2,
       "version_minor": 0
      },
      "text/plain": [
       "tokenizer.json:   0%|          | 0.00/711k [00:00<?, ?B/s]"
      ]
     },
     "metadata": {},
     "output_type": "display_data"
    },
    {
     "data": {
      "application/vnd.jupyter.widget-view+json": {
       "model_id": "3baa6cc0081749688dbcb33de23c7262",
       "version_major": 2,
       "version_minor": 0
      },
      "text/plain": [
       "special_tokens_map.json:   0%|          | 0.00/125 [00:00<?, ?B/s]"
      ]
     },
     "metadata": {},
     "output_type": "display_data"
    },
    {
     "data": {
      "application/vnd.jupyter.widget-view+json": {
       "model_id": "4a7a6f87ede948bfa0badbcf9ba82a31",
       "version_major": 2,
       "version_minor": 0
      },
      "text/plain": [
       "config.json:   0%|          | 0.00/190 [00:00<?, ?B/s]"
      ]
     },
     "metadata": {},
     "output_type": "display_data"
    }
   ],
   "source": [
    "device = \"cuda\" if torch.cuda.is_available() else \"cpu\"\n",
    "\n",
    "# Load Mistral-7B for enrichment\n",
    "'''mistral_tokenizer = AutoTokenizer.from_pretrained(\"mistralai/Mistral-7B-Instruct-v0.2\")\n",
    "mistral_tokenizer.pad_token = mistral_tokenizer.eos_token\n",
    "mistral_model = AutoModelForCausalLM.from_pretrained(\n",
    "    \"mistralai/Mistral-7B-Instruct-v0.2\",\n",
    "    torch_dtype=torch.float16,\n",
    "    device_map=\"auto\"\n",
    ")'''\n",
    "\n",
    "\n",
    "# Load Zephyr-7B with full chat capabilities\n",
    "pipe = pipeline(\n",
    "    \"text-generation\",\n",
    "    model=\"HuggingFaceH4/zephyr-7b-beta\",\n",
    "    torch_dtype=torch.bfloat16 if torch.cuda.is_available() else torch.float32,\n",
    "    device_map=\"auto\"\n",
    ")\n",
    "\n",
    "\n",
    "# Load embedding model\n",
    "embedding_model = SentenceTransformer(\"BAAI/bge-base-en-v1.5\")\n"
   ]
  },
  {
   "cell_type": "code",
   "execution_count": 3,
   "metadata": {},
   "outputs": [],
   "source": [
    "def extract_text_from_pdf(pdf_path: str) -> str:\n",
    "    doc = fitz.open(pdf_path)\n",
    "    text = \"\"\n",
    "    for page in doc:\n",
    "        text += page.get_text(\"text\") + \"\\n\"\n",
    "    doc.close()\n",
    "    return text.strip()\n"
   ]
  },
  {
   "cell_type": "code",
   "execution_count": 4,
   "metadata": {},
   "outputs": [],
   "source": [
    "import re\n",
    "import json\n",
    "\n",
    "def extract_with_regex(text: str) -> dict:\n",
    "    def extract_field(field_name: str) -> str:\n",
    "        # Matches `field_name:` and captures everything until the next label or end of string\n",
    "        pattern = rf\"{field_name}\\s*:\\s*(.*?)(?=\\n(?:\\w+\\s*:)|\\Z)\"\n",
    "        match = re.search(pattern, text, re.IGNORECASE | re.DOTALL)\n",
    "        return match.group(1).strip() if match else \"\"\n",
    "\n",
    "    return {\n",
    "        \"policy_type\": extract_field(\"policy_type\"),\n",
    "        \"coverage\": extract_field(\"coverage\"),\n",
    "        \"content\": extract_field(\"content\")\n",
    "    }\n",
    "def enrich_chunk_with_zephyr(section_text: str, section_title: str, source: str) -> dict:\n",
    "    messages = [\n",
    "        {\n",
    "            \"role\": \"system\",\n",
    "            \"content\": (\n",
    "                \"You are an AI assistant helping extract structured information from insurance policy documents. \"\n",
    "                \"Your job is to return a valid JSON object with the following fields:\\n\\n\"\n",
    "                \"- section_title: The title of the section (same as input)\\n\"\n",
    "                \"- content: A cleaned, complete, and meaningful paragraph in natural language summarizing the key information from the section. \"\n",
    "                \"This should be plain text — not a dictionary or nested structure. Think like a human explaining this section in full sentences.\\n\"\n",
    "                \"- policy_type: Extract only if clearly mentioned (e.g., Health, Life, or product name like my:health Suraksha)\\n\"\n",
    "                \"- coverage: Only if benefits, conditions, or limits are clearly described\\n\\n\"\n",
    "                \"If any field is not present, leave it as an empty string. \"\n",
    "                \"Return ONLY a valid JSON object. No extra markdown, explanation, or formatting.\"\n",
    "            )\n",
    "        },\n",
    "        {\n",
    "            \"role\": \"user\",\n",
    "            \"content\": f\"Section Title: {section_title}\\nContent:\\n{section_text}\"\n",
    "        }\n",
    "    ]\n",
    "\n",
    "    try:\n",
    "        prompt = pipe.tokenizer.apply_chat_template(messages, tokenize=False, add_generation_prompt=True)\n",
    "        outputs = pipe(prompt, max_new_tokens=512, do_sample=False)\n",
    "        generated_text = outputs[0][\"generated_text\"]\n",
    "\n",
    "        # Extract the JSON portion only\n",
    "        json_part = generated_text.split(\"<|assistant|>\")[-1].strip()\n",
    "        print(json_part)\n",
    "\n",
    "        try:\n",
    "            metadata = json.loads(json_part)\n",
    "            metadata[\"source\"] = source\n",
    "            metadata.setdefault(\"section_title\", section_title)\n",
    "            metadata.setdefault(\"content\", section_text)\n",
    "            metadata[\"error\"] = None\n",
    "\n",
    "        except json.JSONDecodeError:\n",
    "            print(\"⚠️ JSON parsing failed, attempting regex fallback...\")\n",
    "            regex_data = extract_with_regex(section_text)\n",
    "            print(regex_data)\n",
    "            if regex_data[\"policy_type\"] or regex_data[\"coverage\"]:\n",
    "                metadata = {\n",
    "                    \"source\": source,\n",
    "                    \"section_title\": section_title,\n",
    "                    \"content\": regex_data[\"content\"],\n",
    "                    \"policy_type\": regex_data[\"policy_type\"],\n",
    "                    \"coverage\": regex_data[\"coverage\"],\n",
    "                    \"error\": \"LLM parse failed - regex fallback used\"\n",
    "                }\n",
    "            else:\n",
    "                print(\"❌ Both LLM JSON and regex extraction failed.\")\n",
    "                metadata = {\n",
    "                    \"source\": source,\n",
    "                    \"section_title\": section_title,\n",
    "                    \"content\": section_text,\n",
    "                    \"policy_type\": \"\",\n",
    "                    \"coverage\": \"\",\n",
    "                    \"error\": \"LLM parse failed & regex fallback both failed\"\n",
    "                }\n",
    "\n",
    "\n",
    "    except Exception as e:\n",
    "        raise RuntimeError(f\"enrich_chunk_with_zephyr failed for section '{section_title}': {str(e)}\")\n",
    "\n",
    "    return {\n",
    "        \"text\": f\"Section Title: {metadata['section_title']}\\n{metadata['content']}\",\n",
    "        \"metadata\": metadata\n",
    "    }"
   ]
  },
  {
   "cell_type": "code",
   "execution_count": 5,
   "metadata": {},
   "outputs": [
    {
     "name": "stdout",
     "output_type": "stream",
     "text": [
      "{\n",
      "  \"section_title\": \"Paragraph 7\",\n",
      "  \"policy_type\": \"my: health Suraksha\",\n",
      "  \"coverage\": \"Paragraph 7 outlines the general conditions for my: health Suraksha policies, including minimum and maximum entry ages for proposers, adult dependents, and children. It also specifies the entry age for the base policy and Unlimited Retore add-on. The policy can be issued on individual, multi-individual, or family floater basis, with a 50% florer discount for all family members except the oldest. Dependents who can be covered include proposers, dependent children, grandparents, grandchildren, daughters-in-law, sisters, sisters-in-law, nieces, spouses, dependent parents/in-laws, grandfathers, granddaughters, sons-in-law, brothers, and nephews. The policy period can be 1, 2, or 3 years.\"\n",
      "}\n"
     ]
    },
    {
     "data": {
      "text/plain": [
       "{'text': 'Section Title: Paragraph 7\\nmy: health Suraksha General Conditions Proposer • Minimum Entry Age - 18 Years • Maximum Enty Age - Lifetime Entry Adult Dependent • Minimum Entry Age - 18 Years • Maximum Entry Age - Lifetime Entry Child/Children • Minimum Entry Age - 91 Days • Maximum Entry Age - 25 Years 1. Entry Age: my:health Suraksha, and Unlimited Retore (Add on) 2. Type of Policy: \\uf075 The base policy can be issued on individual, multi-individual and family ﬂoater basis \\uf075 In case of Family Floater policies ﬂoater discount of 50% will be applied on all the members except the oldest member 3. Coverage for dependents \\uf075 Individual Sum Insured Option: • Proposer • Dependent children • Grandmother • Grandson • Daughter-in-law • Sister • Sister-in-law • Niece • Spouse • Dependant parents/in-laws • Grandfather • Granddaughter • Son-in-law • Brother • Nephew • Brother-in-law Floater sum insured option: Self, spouse, dependent children* and dependent parents/parents in law can be covered under ﬂoater option *Dependent children: A child is considered a dependent for insurance purposes until his 25th birthday provided he is ﬁnancially dependent, on the proposer. 4. Policy period: This policy can be issued for 1 year/ 2 years/ 3 years.',\n",
       " 'metadata': {'section_title': 'Paragraph 7',\n",
       "  'policy_type': 'my: health Suraksha',\n",
       "  'coverage': 'Paragraph 7 outlines the general conditions for my: health Suraksha policies, including minimum and maximum entry ages for proposers, adult dependents, and children. It also specifies the entry age for the base policy and Unlimited Retore add-on. The policy can be issued on individual, multi-individual, or family floater basis, with a 50% florer discount for all family members except the oldest. Dependents who can be covered include proposers, dependent children, grandparents, grandchildren, daughters-in-law, sisters, sisters-in-law, nieces, spouses, dependent parents/in-laws, grandfathers, granddaughters, sons-in-law, brothers, and nephews. The policy period can be 1, 2, or 3 years.',\n",
       "  'source': 'hdfc',\n",
       "  'content': 'my: health Suraksha General Conditions Proposer • Minimum Entry Age - 18 Years • Maximum Enty Age - Lifetime Entry Adult Dependent • Minimum Entry Age - 18 Years • Maximum Entry Age - Lifetime Entry Child/Children • Minimum Entry Age - 91 Days • Maximum Entry Age - 25 Years 1. Entry Age: my:health Suraksha, and Unlimited Retore (Add on) 2. Type of Policy: \\uf075 The base policy can be issued on individual, multi-individual and family ﬂoater basis \\uf075 In case of Family Floater policies ﬂoater discount of 50% will be applied on all the members except the oldest member 3. Coverage for dependents \\uf075 Individual Sum Insured Option: • Proposer • Dependent children • Grandmother • Grandson • Daughter-in-law • Sister • Sister-in-law • Niece • Spouse • Dependant parents/in-laws • Grandfather • Granddaughter • Son-in-law • Brother • Nephew • Brother-in-law Floater sum insured option: Self, spouse, dependent children* and dependent parents/parents in law can be covered under ﬂoater option *Dependent children: A child is considered a dependent for insurance purposes until his 25th birthday provided he is ﬁnancially dependent, on the proposer. 4. Policy period: This policy can be issued for 1 year/ 2 years/ 3 years.',\n",
       "  'error': None}}"
      ]
     },
     "execution_count": 5,
     "metadata": {},
     "output_type": "execute_result"
    }
   ],
   "source": [
    "enrich_chunk_with_zephyr(\"\"\"my: health Suraksha General Conditions Proposer • Minimum Entry Age - 18 Years • Maximum Enty Age - Lifetime Entry Adult Dependent • Minimum Entry Age - 18 Years • Maximum Entry Age - Lifetime Entry Child/Children • Minimum Entry Age - 91 Days • Maximum Entry Age - 25 Years 1. Entry Age: my:health Suraksha, and Unlimited Retore (Add on) 2. Type of Policy:  The base policy can be issued on individual, multi-individual and family ﬂoater basis  In case of Family Floater policies ﬂoater discount of 50% will be applied on all the members except the oldest member 3. Coverage for dependents  Individual Sum Insured Option: • Proposer • Dependent children • Grandmother • Grandson • Daughter-in-law • Sister • Sister-in-law • Niece • Spouse • Dependant parents/in-laws • Grandfather • Granddaughter • Son-in-law • Brother • Nephew • Brother-in-law Floater sum insured option: Self, spouse, dependent children* and dependent parents/parents in law can be covered under ﬂoater option *Dependent children: A child is considered a dependent for insurance purposes until his 25th birthday provided he is ﬁnancially dependent, on the proposer. 4. Policy period: This policy can be issued for 1 year/ 2 years/ 3 years.\"\"\",\"Paragraph 7\",\"hdfc\")"
   ]
  },
  {
   "cell_type": "code",
   "execution_count": 6,
   "metadata": {},
   "outputs": [],
   "source": [
    "def chunk_text_by_paragraphs(text: str, min_length: int = 100) -> List[Dict]:\n",
    "    raw_chunks = re.split(r'\\n{2,}', text)\n",
    "    sections = []\n",
    "    for i, chunk in enumerate(raw_chunks):\n",
    "        # Remove line breaks and tabs, normalize spacing\n",
    "        cleaned = re.sub(r'[\\n\\t\\r]+', ' ', chunk)\n",
    "        cleaned = re.sub(r'\\s{2,}', ' ', cleaned).strip()\n",
    "\n",
    "        if len(cleaned) >= min_length:\n",
    "            sections.append({\n",
    "                \"section_title\": f\"Paragraph {i+1}\",\n",
    "                \"content\": cleaned\n",
    "            })\n",
    "    return sections\n"
   ]
  },
  {
   "cell_type": "code",
   "execution_count": 7,
   "metadata": {},
   "outputs": [
    {
     "name": "stdout",
     "output_type": "stream",
     "text": [
      "📄 Found 1 PDFs.\n",
      "🧾 Processing hdfc.pdf...\n",
      "{\n",
      "  \"section_title\": \"Paragraph 2\",\n",
      "  \"policy_type\": \"my:health Suraksha\",\n",
      "  \"coverage\": \"Multiple sum insured options ranging from Rs. 3 lakhs to Rs. 75 lakhs available under this policy*. Any age entry option with lifetime renewal. Exclusive covers like air ambulance cover, recovery benefit, sum insured rebound, etc. Wellness features like fitness discount at renewal, health incentives for maintenance of health, etc. Various discount options to like family discount, long term policy discount, loyalty discount. This policy provides comprehensive protection against rising medical expenses for individuals, families, and senior citizens.\"\n",
      "}\n",
      "{\n",
      "  \"section_title\": \"Paragraph 3\",\n",
      "  \"content\": \"my: health Suraksha Base provides coverage for medical expenses at actuals for medically necessary hospitalization due to illness or injury, including expenses for room rent, ICU, diagnostic procedures, consultation fees, and medicines. It also covers home healthcare, domiciliary hospitalization, pre and post hospitalization coverage, day care procedures, road ambulance services, organ donor expenses, and alternative treatments such as Ayurvedic, Unani, Siddha, Homeopathy, Yoga, and Naturopathy prescribed by a medical practitioner for inpatient care.\",\n",
      "  \"policy_type\": \"my: health Suraksha\",\n",
      "  \"coverage\": \"Medical expenses coverage for hospitalization, home healthcare, domiciliary hospitalization, pre and post hospitalization coverage, day care procedures, road ambulance services, organ donor expenses, and alternative treatments such as Ayurvedic, Unani, Siddha, Homeopathy, Yoga, and Naturopathy prescribed by a medical practitioner for inpatient care.\"\n",
      "}\n",
      "{\n",
      "  \"section_title\": \"Paragraph 4\",\n",
      "  \"policy_type\": \"my:health Suraksha\",\n",
      "  \"coverage\": \"Sum Insured Rebound^ adds to the sum insured an amount equivalent to the admissible claim amount, subject to a maximum of the basic sum insured, on subsequent hospitalization of the insured person during a policy year. Rebound amount is available to all insured persons for the same and different illness claims, subject to the condition that a single claim in a policy year cannot exceed the sum of the basic sum insured and cumulative bonus earned. In case of treatment for chemotherapy and dialysis, Sum Insured Rebound will be applicable only once in the lifetime of the policy. Unique Covers my:health Suraksha Air Ambulance Cover# covers expenses incurred on air ambulance transportation in an airplane or helicopter to the nearest hospital for emergency care. Recovery Benefit@ is a lumpsum benefit paid in case the insured person is hospitalized for a consecutive and a continuous period of more than 10 days.\"\n",
      "}\n",
      "{\n",
      "  \"section_title\": \"Paragraph 5\",\n",
      "  \"policy_type\": \"my: health Suraksha\",\n",
      "  \"coverage\": {\n",
      "    \"fitness discount at renewal\": \"Accumulate healthy weeks and earn up to 10% discount on renewal premium.\",\n",
      "    \"health incentives\": \"Maintain good health and avail 50% discount at renewal on medical underwriting loading based on favourable test parameters. Such tests should be done at your own cost through our network provider.\",\n",
      "    \"wellness services\": \"Health coach, specialised stress management program, diet consultation, discounts on OPD/pharma and more.\",\n",
      "    \"renewal benefits\": {\n",
      "      \"cumulative bonus\": \"Increase in 10%/25% of base sum insured every claim free year up to 100%/200% of base sum insured as per the plan opted\",\n",
      "      \"preventive health check-up - booster\": \"Helps you keep track of your health status by availing a preventive health check-up post completion of every policy year, irrespective of claims\"\n",
      "    }\n",
      "  },\n",
      "  \"content\": \"my: health Suraksha offers various benefits at renewal, including a fitness discount of up to 10% for accumulating healthy weeks, a health incentive of 50% discount on medical underwriting loading based on favourable test parameters, which should be done at your own cost through our network provider. Additionally, wellness services such as a health coach, specialised stress management program, diet consultation, and discounts on OPD/pharma are provided. At renewal, a cumulative bonus of 10%/25% of base sum insured is added every claim-free year, up to 100%/200% of base sum insured based on the plan opted. Furthermore, a preventive health check-up called 'Booster' is provided annually, regardless of claims.\"\n",
      "}\n",
      "{\n",
      "  \"section_title\": \"Paragraph 6: Waiting Periods and Exclusions\",\n",
      "  \"policy_type\": \"my: health Suraksha\",\n",
      "  \"coverage\": \"Waiting periods: 30 days initial waiting period, 24 months waiting period on specific illnesses & surgical procedures, 36 months waiting period on pre-existing diseases\\nStandard exclusions: Investigation and evaluation purposes, obesity control, cosmetic surgery, hazardous sports, breach of law, alcoholism, drug or substance abuse, unproven treatments, sterility and infertility, maternity\\nFor in depth detail on benefits, waiting periods and exclusions kindly refer to prospectus and policy wordings documents before concluding sale.\"\n",
      "}\n",
      "{\n",
      "  \"section_title\": \"Paragraph 7\",\n",
      "  \"policy_type\": \"my: health Suraksha\",\n",
      "  \"coverage\": \"Paragraph 7 outlines the general conditions for my: health Suraksha policies, including minimum and maximum entry ages for proposers, adult dependents, and children. The policy can be issued on individual, multi-individual, or family floater basis, with a 50% florer discount for all family members except the oldest. Dependents who can be covered include proposers, dependent children, grandparents, grandchildren, daughters-in-law, sisters, sisters-in-law, nieces, spouses, dependent parents/in-laws, grandfathers, granddaughters, sons-in-law, brothers, nephews, and brothers-in-law. The policy can be issued for 1 year, 2 years, or 3 years.\"\n",
      "}\n",
      "{\n",
      "  \"section_title\": \"Paragraph 8\",\n",
      "  \"policy_type\": \"my: health Suraksha\",\n",
      "  \"coverage\": \"Paragraph 8 describes an add-on called Unlimited Restore, which provides an instant 100% addition of the basic sum insured when the sum insured is fully or partially utilized during the policy year. This add-on can trigger unlimited times and is available for all subsequent claims in a policy year. The premium for this add-on is computed based on the tier chosen by the policyholder in the proposal form and as mentioned in the policy schedule. The classification of cities is as follows: Tier 1 includes Delhi, NCR, Mumbai, Thane, Mumbai Suburban, and Navi Mumbai, Surat, Ahmedabad, and Vadodara. Tier 2 includes all other cities. If the policyholder pays a Tier 1 premium, they can receive treatment anywhere in India without any co-payment. If they pay a Tier 2 premium, they can receive treatment in Tier 2 cities without any co-payment, but a 20% co-payment will be applicable if they receive treatment in Tier 1 cities, except for hospitalization with a room rent of up to Rs. 2,500 per day or for medically necessary treatment following an accident. Family discounts of 10% on premiums are offered for eligible family members covered under an individual sum insured policy with the company, and a loyalty discount of 10% on the lower of the premiums for all active policies held by the customer is also offered for policies for more than one product.\",\n",
      "  \"content\": \"This paragraph explains the Unlimited Restore add-on, which provides an additional 100% of the basic sum insured when the sum insured is fully or partially utilized during the policy year. It can be used unlimited times for subsequent claims in a policy year. The premium for this add-on is based on the tier chosen by the policyholder in the proposal form and as mentioned in the policy schedule. The classification of cities is Tier 1 (Delhi, NCR, Mumbai, Thane, Mumbai Suburban, and Navi Mumbai, Surat, Ahmedabad, and Vadodara) and Tier 2 (all\n",
      "⚠️ JSON parsing failed, attempting regex fallback...\n",
      "{'policy_type': '', 'coverage': '', 'content': ''}\n",
      "❌ Both LLM JSON and regex extraction failed.\n",
      "{\n",
      "  \"section_title\": \"Paragraph 9\",\n",
      "  \"policy_type\": \"my: health Suraksha\",\n",
      "  \"coverage\": \"Total maximum discount of all mentioned above, should not exceed 20% of the total premium per policy. Long term policy discount - A discount of 7.5% and 10% will be offered in case a policy is purchased for 2-year and 3-year tenure respectively, provided he has paid the premium in advance as a single premium. This benefit is not available for instalment premium payment options. Premium will be as per the corresponding age of that particular year.\",\n",
      "  \"content\": \"This section outlines the discounts available for the my: health Suraksha policy. The total maximum discount for all discounts combined cannot exceed 20% of the total premium per policy. A discount of 7.5% and 10% is offered for policies with a 2-year and 3-year tenure, respectively, as long as the premium is paid in advance as a single premium. This benefit is not available for instalment premium payment options. The premium is calculated based on the corresponding age of that particular year.\"\n",
      "}\n"
     ]
    },
    {
     "name": "stderr",
     "output_type": "stream",
     "text": [
      "You seem to be using the pipelines sequentially on GPU. In order to maximize efficiency please use a dataset\n"
     ]
    },
    {
     "name": "stdout",
     "output_type": "stream",
     "text": [
      "{\n",
      "  \"section_title\": \"Paragraph 10: Additional Benefit\",\n",
      "  \"content\": \"my: health Suraksha offers additional benefits as per Section 80D of the IT Act for premiums paid. The policy covers medical expenses, room rent, ICU, mental healthcare, home healthcare, domiciliary hospitalization, pre-hospitalization, post-hospitalization, day care procedures, and organ donor expenses. Alternative treatment and air ambulance cover are also included. Rebound cover is provided up to Rs. 5,000, and recovery benefit is covered up to Rs. 15,000. Hospitalization cover is renewable, and basic sum insured ranges from Rs. 3 lakhs to Rs. 75 lakhs. Road ambulance cover is provided for sum insured of Rs. 3 lakhs to Rs. 50 lakhs, with a maximum of Rs. 15,000 for sum insured above Rs. 50 lakhs. Cumulative bonus is offered at 10% per claim-free year, up to a maximum of 100%, 100%, and 200% for policies with 3, 10, and 25 claim-free years, respectively. Preventive health check-up (Booster) is covered for the second and subsequent policies.\",\n",
      "  \"policy_type\": \"my: health Suraksha\",\n",
      "  \"coverage\": \"medical expenses, room rent, ICU, mental healthcare, home healthcare, domiciliary hospitalization, pre-hospitalization, post-hospitalization, day care procedures, organ donor expenses, alternative treatment, air ambulance cover, hospitalization cover, road ambulance cover, cumulative bonus, preventive health check-up (Booster)\"\n",
      "}\n",
      "{\n",
      "  \"section_title\": \"Paragraph 11\",\n",
      "  \"policy_type\": \"my: health Suraksha\",\n",
      "  \"coverage\": \"Paragraph 11 outlines the coverage for different tiers of the my: health Suraksha policy. The Silver Smart, Gold Smart, and Platinum Smart tiers cover specific illnesses and procedures with waiting periods of 30 days, 2 years, and 3 years, respectively. The Initial WP tier has a 30-day waiting period. Pre-existing diseases are covered after a 30-day waiting period for all tiers except Platinum Smart, which covers them after 2 years. Add-on covers are optional and have no waiting period, except for Restore (Add on), which has a waiting period of 'As per Section 41 of the Insurance Act 1938, as amended'. The Insurance Act 1938 prohibits rebating, and violations are punishable with a fine of up to `10 Lakhs.\"\n",
      "}\n",
      "{\n",
      "  \"section_title\": \"Paragraph 12\",\n",
      "  \"policy_type\": \"my:health Suraksha\",\n",
      "  \"coverage\": \"This is for hospitalisation cover only. Minimum Sum Insured of Rs. 1 Lac to Maximum Sum Insured of Rs.5 Crore under this policy. Additional premium will be charged for optional and add on covers. Gold Smart Sum Insured options are 6 lakhs / 7.5 lakhs / 9 lakhs / 10 lakhs / 12.5 lakhs / 15 lakhs. Platinum smart sum insured options are 17.50 lakhs / 20 lakhs / 22.50 lakhs / 25 lakhs / 30 lakhs / 35 lakhs / 40 lakhs / 45 lakhs / 50 lakhs / 75 lakhs. For complete list, refer prospectus or policy wording. HDFC ERGO General Insurance Company Limited. IRDAI Reg. No. 146. CIN: U66030MH20 07PLC177117. Registered & Corporate Office: 6th Floor, Leela Business Park, Andheri-Kurla Road, Andheri (East), Mumbai – 400 059. UIN: my: health Suraksha - HDFHLIP24079V072324 | Unlimited Restore (Add On) - HDFHLIA22188V012122. UID: 14788. Printing Code:myHS-OM/BR/010/MAR2024.\",\n",
      "  \"content\": \"This section outlines the coverage for the my:health Suraksha policy, which is limited to hospitalisation expenses. The policy offers a minimum Sum Insured of Rs. 1 Lac and a maximum of Rs. 5 Crore. Additional premiums will be charged for optional and add-on covers. Gold Smart Sum Insured options range from 6 lakhs to 15 lakhs, while Platinum smart sum insured options range from 17.5\n",
      "⚠️ JSON parsing failed, attempting regex fallback...\n",
      "{'policy_type': '', 'coverage': '', 'content': ''}\n",
      "❌ Both LLM JSON and regex extraction failed.\n",
      "✅ Extracted and enriched 11 chunks → ./enriched_jsons/hdfc_enriched.json\n"
     ]
    }
   ],
   "source": [
    "pdf_dir = \"./policy_pdfs\"\n",
    "output_json_dir = \"./enriched_jsons\"\n",
    "os.makedirs(output_json_dir, exist_ok=True)\n",
    "\n",
    "pdf_files = [f for f in os.listdir(pdf_dir) if f.endswith(\".pdf\")]\n",
    "print(f\"📄 Found {len(pdf_files)} PDFs.\")\n",
    "\n",
    "all_enriched = []\n",
    "\n",
    "for pdf_file in pdf_files:\n",
    "    full_path = os.path.join(pdf_dir, pdf_file)\n",
    "    print(f\"🧾 Processing {pdf_file}...\")\n",
    "    \n",
    "    # Extract and chunk\n",
    "    text = extract_text_from_pdf(full_path)\n",
    "    chunks = chunk_text_by_paragraphs(text)\n",
    "\n",
    "    enriched = []\n",
    "    for chunk in chunks:\n",
    "        enriched_chunk = enrich_chunk_with_zephyr(\n",
    "            section_text=chunk[\"content\"],\n",
    "            section_title=chunk[\"section_title\"],\n",
    "            source=pdf_file\n",
    "        )\n",
    "        enriched.append(enriched_chunk)\n",
    "\n",
    "    # Save per file\n",
    "    json_path = os.path.join(output_json_dir, pdf_file.replace(\".pdf\", \"_enriched.json\"))\n",
    "    with open(json_path, \"w\", encoding=\"utf-8\") as f:\n",
    "        json.dump(enriched, f, indent=2, ensure_ascii=False)\n",
    "\n",
    "    all_enriched.extend(enriched)\n",
    "    print(f\"✅ Extracted and enriched {len(enriched)} chunks → {json_path}\")\n",
    "\n",
    "# Build FAISS index from all enriched chunks\n",
    "#build_faiss_index(all_enriched)\n"
   ]
  },
  {
   "cell_type": "code",
   "execution_count": 8,
   "metadata": {},
   "outputs": [
    {
     "name": "stdout",
     "output_type": "stream",
     "text": [
      "🚀 Model loaded!\n",
      "📁 Found 1 JSON file(s)\n"
     ]
    },
    {
     "name": "stderr",
     "output_type": "stream",
     "text": [
      "Embedding JSONs: 100%|██████████| 1/1 [00:00<00:00,  5.26it/s]"
     ]
    },
    {
     "name": "stdout",
     "output_type": "stream",
     "text": [
      "\n",
      "✅ Generated 11 embeddings with cleaned metadata (no 'error' field).\n"
     ]
    },
    {
     "name": "stderr",
     "output_type": "stream",
     "text": [
      "\n"
     ]
    }
   ],
   "source": [
    "import os\n",
    "import json\n",
    "from sentence_transformers import SentenceTransformer\n",
    "from tqdm import tqdm\n",
    "\n",
    "# ✅ Load model\n",
    "model = SentenceTransformer(\"BAAI/bge-base-en-v1.5\")\n",
    "print(\"🚀 Model loaded!\")\n",
    "\n",
    "# ✅ Directory paths\n",
    "json_folder = \"./enriched_jsons\"\n",
    "\n",
    "# ✅ Load and embed texts\n",
    "all_embeddings = []\n",
    "all_metadata = []\n",
    "\n",
    "json_files = [f for f in os.listdir(json_folder) if f.endswith(\"_enriched.json\")]\n",
    "print(f\"📁 Found {len(json_files)} JSON file(s)\")\n",
    "\n",
    "for file in tqdm(json_files, desc=\"Embedding JSONs\"):\n",
    "    path = os.path.join(json_folder, file)\n",
    "\n",
    "    with open(path, \"r\", encoding=\"utf-8\") as f:\n",
    "        data = json.load(f)\n",
    "\n",
    "    for entry in data:\n",
    "        text = entry[\"text\"]\n",
    "        metadata = entry[\"metadata\"]\n",
    "\n",
    "        # ✅ Remove \"error\" field if it exists\n",
    "        metadata.pop(\"error\", None)\n",
    "\n",
    "        # Generate embedding\n",
    "        embedding = model.encode(text, show_progress_bar=False)\n",
    "\n",
    "        all_embeddings.append(embedding)\n",
    "        all_metadata.append(metadata)\n",
    "\n",
    "print(f\"\\n✅ Generated {len(all_embeddings)} embeddings with cleaned metadata (no 'error' field).\")\n"
   ]
  },
  {
   "cell_type": "code",
   "execution_count": 9,
   "metadata": {},
   "outputs": [
    {
     "name": "stderr",
     "output_type": "stream",
     "text": [
      "huggingface/tokenizers: The current process just got forked, after parallelism has already been used. Disabling parallelism to avoid deadlocks...\n",
      "To disable this warning, you can either:\n",
      "\t- Avoid using `tokenizers` before the fork if possible\n",
      "\t- Explicitly set the environment variable TOKENIZERS_PARALLELISM=(true | false)\n"
     ]
    },
    {
     "name": "stdout",
     "output_type": "stream",
     "text": [
      "📦 FAISS index created and 11 vectors added.\n",
      "✅ FAISS index and metadata saved successfully.\n"
     ]
    }
   ],
   "source": [
    "# ✅ Install FAISS\n",
    "!pip install faiss-gpu --quiet  # Use faiss-gpu if you're on a GPU runtime\n",
    "\n",
    "# ✅ Imports\n",
    "import faiss\n",
    "import numpy as np\n",
    "import pickle\n",
    "\n",
    "# ✅ Convert embeddings list to NumPy array\n",
    "embedding_dim = len(all_embeddings[0])\n",
    "embedding_matrix = np.array(all_embeddings).astype(\"float32\")\n",
    "\n",
    "# ✅ Create FAISS index\n",
    "index = faiss.IndexFlatL2(embedding_dim)  # L2 distance (Euclidean)\n",
    "index.add(embedding_matrix)\n",
    "print(f\"📦 FAISS index created and {index.ntotal} vectors added.\")\n",
    "\n",
    "# ✅ Save the index and metadata\n",
    "faiss.write_index(index, \"faiss_index_bge_base.index\")\n",
    "\n",
    "# Save metadata using pickle\n",
    "with open(\"faiss_metadata.pkl\", \"wb\") as f:\n",
    "    pickle.dump(all_metadata, f)\n",
    "\n",
    "print(\"✅ FAISS index and metadata saved successfully.\")\n"
   ]
  }
 ],
 "metadata": {
  "language_info": {
   "name": "python"
  }
 },
 "nbformat": 4,
 "nbformat_minor": 2
}
